{
 "cells": [
  {
   "cell_type": "markdown",
   "metadata": {},
   "source": [
    "# Exploratory data analysis"
   ]
  },
  {
   "cell_type": "code",
   "execution_count": 81,
   "metadata": {},
   "outputs": [
    {
     "name": "stdout",
     "output_type": "stream",
     "text": [
      "<class 'pandas.core.frame.DataFrame'>\n",
      "RangeIndex: 2341 entries, 0 to 2340\n",
      "Data columns (total 13 columns):\n",
      " #   Column                       Non-Null Count  Dtype  \n",
      "---  ------                       --------------  -----  \n",
      " 0   University Rank              2341 non-null   object \n",
      " 1   Name of University           2233 non-null   object \n",
      " 2   Location                     2047 non-null   object \n",
      " 3   No of student                2209 non-null   object \n",
      " 4   No of student per staff      2208 non-null   float64\n",
      " 5   International Student        2209 non-null   object \n",
      " 6   Female:Male Ratio            2128 non-null   object \n",
      " 7   OverAll Score                1799 non-null   object \n",
      " 8   Teaching Score               1799 non-null   float64\n",
      " 9   Research Score               1799 non-null   float64\n",
      " 10  Citations Score              1799 non-null   float64\n",
      " 11  Industry Income Score        1799 non-null   float64\n",
      " 12  International Outlook Score  1799 non-null   float64\n",
      "dtypes: float64(6), object(7)\n",
      "memory usage: 237.9+ KB\n"
     ]
    }
   ],
   "source": [
    "import pandas as pd\n",
    "df_univ = pd.read_csv(\"World University Rankings 2023.csv\")\n",
    "df_univ.info()"
   ]
  },
  {
   "cell_type": "code",
   "execution_count": 82,
   "metadata": {},
   "outputs": [
    {
     "data": {
      "text/plain": [
       "(2341, 13)"
      ]
     },
     "execution_count": 82,
     "metadata": {},
     "output_type": "execute_result"
    }
   ],
   "source": [
    "df_univ.shape"
   ]
  },
  {
   "cell_type": "code",
   "execution_count": 83,
   "metadata": {},
   "outputs": [
    {
     "data": {
      "text/plain": [
       "University Rank                  0\n",
       "Name of University             108\n",
       "Location                       294\n",
       "No of student                  132\n",
       "No of student per staff        133\n",
       "International Student          132\n",
       "Female:Male Ratio              213\n",
       "OverAll Score                  542\n",
       "Teaching Score                 542\n",
       "Research Score                 542\n",
       "Citations Score                542\n",
       "Industry Income Score          542\n",
       "International Outlook Score    542\n",
       "dtype: int64"
      ]
     },
     "execution_count": 83,
     "metadata": {},
     "output_type": "execute_result"
    }
   ],
   "source": [
    "df_univ.isna().sum()"
   ]
  },
  {
   "cell_type": "markdown",
   "metadata": {},
   "source": [
    "Let's drop rows with NaN values."
   ]
  },
  {
   "cell_type": "code",
   "execution_count": 84,
   "metadata": {},
   "outputs": [
    {
     "data": {
      "text/plain": [
       "(1488, 13)"
      ]
     },
     "execution_count": 84,
     "metadata": {},
     "output_type": "execute_result"
    }
   ],
   "source": [
    "df_univ = df_univ.dropna()\n",
    "df_univ.shape"
   ]
  },
  {
   "cell_type": "markdown",
   "metadata": {},
   "source": [
    "Some numerical variables are labelled as objects. Let's investigate further."
   ]
  },
  {
   "cell_type": "code",
   "execution_count": 85,
   "metadata": {},
   "outputs": [
    {
     "data": {
      "text/html": [
       "<div>\n",
       "<style scoped>\n",
       "    .dataframe tbody tr th:only-of-type {\n",
       "        vertical-align: middle;\n",
       "    }\n",
       "\n",
       "    .dataframe tbody tr th {\n",
       "        vertical-align: top;\n",
       "    }\n",
       "\n",
       "    .dataframe thead th {\n",
       "        text-align: right;\n",
       "    }\n",
       "</style>\n",
       "<table border=\"1\" class=\"dataframe\">\n",
       "  <thead>\n",
       "    <tr style=\"text-align: right;\">\n",
       "      <th></th>\n",
       "      <th>No of student</th>\n",
       "      <th>International Student</th>\n",
       "      <th>Female:Male Ratio</th>\n",
       "      <th>OverAll Score</th>\n",
       "    </tr>\n",
       "  </thead>\n",
       "  <tbody>\n",
       "    <tr>\n",
       "      <th>0</th>\n",
       "      <td>20,965</td>\n",
       "      <td>42%</td>\n",
       "      <td>48 : 52</td>\n",
       "      <td>96.4</td>\n",
       "    </tr>\n",
       "    <tr>\n",
       "      <th>1</th>\n",
       "      <td>21,887</td>\n",
       "      <td>25%</td>\n",
       "      <td>50 : 50</td>\n",
       "      <td>95.2</td>\n",
       "    </tr>\n",
       "    <tr>\n",
       "      <th>2</th>\n",
       "      <td>20,185</td>\n",
       "      <td>39%</td>\n",
       "      <td>47 : 53</td>\n",
       "      <td>94.8</td>\n",
       "    </tr>\n",
       "    <tr>\n",
       "      <th>3</th>\n",
       "      <td>16,164</td>\n",
       "      <td>24%</td>\n",
       "      <td>46 : 54</td>\n",
       "      <td>94.8</td>\n",
       "    </tr>\n",
       "    <tr>\n",
       "      <th>4</th>\n",
       "      <td>11,415</td>\n",
       "      <td>33%</td>\n",
       "      <td>40 : 60</td>\n",
       "      <td>94.2</td>\n",
       "    </tr>\n",
       "  </tbody>\n",
       "</table>\n",
       "</div>"
      ],
      "text/plain": [
       "  No of student International Student Female:Male Ratio OverAll Score\n",
       "0        20,965                   42%           48 : 52          96.4\n",
       "1        21,887                   25%           50 : 50          95.2\n",
       "2        20,185                   39%           47 : 53          94.8\n",
       "3        16,164                   24%           46 : 54          94.8\n",
       "4        11,415                   33%           40 : 60          94.2"
      ]
     },
     "execution_count": 85,
     "metadata": {},
     "output_type": "execute_result"
    }
   ],
   "source": [
    "df_univ[[\"No of student\", \"International Student\", \"Female:Male Ratio\", \"OverAll Score\"]].head()"
   ]
  },
  {
   "cell_type": "markdown",
   "metadata": {},
   "source": [
    "* The column \"No of student\" needs to be converted to int.\n",
    "* The column \"international Student\", containing percentages, can be converted to float.\n",
    "* The Female:Male Ratio can be approached as a division of female by male.\n",
    "* The OverAll Score will be converted to float type."
   ]
  },
  {
   "cell_type": "code",
   "execution_count": 86,
   "metadata": {},
   "outputs": [
    {
     "data": {
      "text/plain": [
       "0    20965\n",
       "1    21887\n",
       "2    20185\n",
       "3    16164\n",
       "4    11415\n",
       "Name: No of student, dtype: int64"
      ]
     },
     "execution_count": 86,
     "metadata": {},
     "output_type": "execute_result"
    }
   ],
   "source": [
    "import numpy as np\n",
    "\n",
    "df_univ[\"No of student\"] = df_univ[\"No of student\"].astype(str)\n",
    "\n",
    "df_univ[\"No of student\"] = df_univ[\"No of student\"].str.replace(\",\", \"\")\n",
    "\n",
    "# we need to replace empty strings with NaN to avoid type conversion issues.\n",
    "df_univ[\"International Student\"] = df_univ[\"International Student\"].replace('', np.nan)\n",
    "\n",
    "df_univ[\"No of student\"] = df_univ[\"No of student\"].astype(int)\n",
    "\n",
    "df_univ[\"No of student\"].head()"
   ]
  },
  {
   "cell_type": "code",
   "execution_count": 87,
   "metadata": {},
   "outputs": [
    {
     "data": {
      "text/plain": [
       "0    42.0\n",
       "1    25.0\n",
       "2    39.0\n",
       "3    24.0\n",
       "4    33.0\n",
       "Name: International Student, dtype: float64"
      ]
     },
     "execution_count": 87,
     "metadata": {},
     "output_type": "execute_result"
    }
   ],
   "source": [
    "df_univ[\"International Student\"] = df_univ[\"International Student\"].astype(str)\n",
    "\n",
    "df_univ[\"International Student\"] = df_univ[\"International Student\"].str.replace('%', '').str.strip()\n",
    "\n",
    "# we need to replace empty strings with NaN to avoid type conversion issues.\n",
    "df_univ[\"International Student\"] = df_univ[\"International Student\"].replace('', np.nan)\n",
    "\n",
    "df_univ[\"International Student\"] = df_univ[\"International Student\"].astype(float)\n",
    "\n",
    "df_univ[\"International Student\"].head()"
   ]
  },
  {
   "cell_type": "code",
   "execution_count": 88,
   "metadata": {},
   "outputs": [
    {
     "name": "stdout",
     "output_type": "stream",
     "text": [
      "0       48 : 52\n",
      "1       50 : 50\n",
      "2       47 : 53\n",
      "3       46 : 54\n",
      "4       40 : 60\n",
      "         ...   \n",
      "1692    35 : 65\n",
      "1693    38 : 62\n",
      "1694    39 : 61\n",
      "1695    55 : 45\n",
      "1696    47 : 53\n",
      "Name: Female:Male Ratio, Length: 1488, dtype: object\n",
      "Female:Male Ratio\n",
      "7    1485\n",
      "6       3\n",
      "Name: count, dtype: int64\n"
     ]
    }
   ],
   "source": [
    "print(df_univ[\"Female:Male Ratio\"])\n",
    "\n",
    "def length_values(str_ratio):\n",
    "    return len(str_ratio)\n",
    "\n",
    "print(df_univ[\"Female:Male Ratio\"].apply(length_values).value_counts())"
   ]
  }
 ],
 "metadata": {
  "kernelspec": {
   "display_name": "myenv",
   "language": "python",
   "name": "python3"
  },
  "language_info": {
   "codemirror_mode": {
    "name": "ipython",
    "version": 3
   },
   "file_extension": ".py",
   "mimetype": "text/x-python",
   "name": "python",
   "nbconvert_exporter": "python",
   "pygments_lexer": "ipython3",
   "version": "3.12.4"
  }
 },
 "nbformat": 4,
 "nbformat_minor": 2
}
